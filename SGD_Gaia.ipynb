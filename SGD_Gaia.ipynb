{
  "nbformat": 4,
  "nbformat_minor": 0,
  "metadata": {
    "colab": {
      "provenance": []
    },
    "kernelspec": {
      "name": "python3",
      "display_name": "Python 3"
    },
    "language_info": {
      "name": "python"
    }
  },
  "cells": [
    {
      "cell_type": "code",
      "execution_count": 1,
      "metadata": {
        "id": "lU4evqmxZujO"
      },
      "outputs": [],
      "source": [
        "import numpy as np\n",
        "import pandas as pd\n",
        "from sklearn.model_selection import train_test_split\n",
        "from sklearn.preprocessing import StandardScaler\n",
        "import matplotlib.pyplot as plt"
      ]
    },
    {
      "cell_type": "code",
      "source": [
        "# Load the Boston Housing dataset from a CSV file\n",
        "boston_df = pd.read_csv('https://archive.ics.uci.edu/ml/machine-learning-databases/housing/housing.data',\n",
        "                        header=None,\n",
        "                        delim_whitespace=True,\n",
        "                        names=['CRIM', 'ZN', 'INDUS', 'CHAS', 'NOX', 'RM', 'AGE',\n",
        "                               'DIS', 'RAD', 'TAX', 'PTRATIO', 'B', 'LSTAT', 'MEDV'])"
      ],
      "metadata": {
        "id": "HdwhTH1NZzsy"
      },
      "execution_count": 2,
      "outputs": []
    },
    {
      "cell_type": "code",
      "source": [
        "# Extract X and y matrices from the dataset\n",
        "X = boston_df.drop('MEDV', axis=1).values\n",
        "y = boston_df['MEDV'].values\n",
        "\n",
        "X_train, X_test, y_train, y_test = train_test_split(X, y, test_size=0.2, random_state=30)"
      ],
      "metadata": {
        "id": "-waw6HCMZzvg"
      },
      "execution_count": 3,
      "outputs": []
    },
    {
      "cell_type": "code",
      "source": [
        "# Normalize the input data\n",
        "scaler = StandardScaler()\n",
        "X_train = scaler.fit_transform(X_train)\n",
        "X_test = scaler.transform(X_test)\n",
        "\n",
        "# number of rows\n",
        "n = X_train.shape[0]\n",
        "# number of columns\n",
        "d = X_train.shape[1]\n",
        "\n",
        "# Join X_train and y_train\n",
        "train_data = np.concatenate((X_train, y_train.reshape(-1, 1)), axis=1)\n",
        "\n",
        "# number of epochs\n",
        "T = 10"
      ],
      "metadata": {
        "id": "KeKYPJpfZzx_"
      },
      "execution_count": 4,
      "outputs": []
    },
    {
      "cell_type": "code",
      "source": [
        "def create_random_batches(dataset, batch_size = 32):\n",
        "    # num_samples = len(dataset)\n",
        "    num_samples = n\n",
        "    batches = []\n",
        "    num_batches = num_samples // batch_size  # Calculate the number of batches based on dataset size\n",
        "\n",
        "    for _ in range(num_batches):\n",
        "        random_rows = np.random.choice(num_samples, size=batch_size, replace=False)\n",
        "        batch = dataset[random_rows]\n",
        "        batches.append(batch)\n",
        "    return batches\n",
        "\n",
        "\n",
        "# Create batches only for the training set\n",
        "train_random_batches = create_random_batches(train_data)"
      ],
      "metadata": {
        "id": "uctVZNxQZz2i"
      },
      "execution_count": 5,
      "outputs": []
    },
    {
      "cell_type": "code",
      "source": [
        "def stochastic_gradient_descent(batches, learning_rate=0.001, num_iterations=T):\n",
        "\n",
        "    # Initialize model parameters\n",
        "    num_features = d\n",
        "    weights = np.zeros(num_features)  # Initialize weights to zeros\n",
        "    bias = 0  # Initialize bias to zero\n",
        "    # Initialize a list to store MSE values\n",
        "    mse_values = []\n",
        "\n",
        "    # Perform gradient descent\n",
        "    for iteration in range(num_iterations):\n",
        "        for batch in batches:\n",
        "            # Extract features and target from the current batch\n",
        "            X_batch = batch[:, :-1]\n",
        "            y_batch = batch[:, -1]\n",
        "\n",
        "            # Perform gradient descent on the current batch using the features X_batch and target y_batch\n",
        "            num_samples = X_batch.shape[0]\n",
        "\n",
        "            # Compute predictions\n",
        "            y_pred = np.dot(X_batch, weights) + bias\n",
        "\n",
        "            # Compute gradients\n",
        "            d_weights = (1 / num_samples) * np.dot(X_batch.T, (y_pred - y_batch))\n",
        "            d_bias = (1 / num_samples) * np.sum(y_pred - y_batch)\n",
        "\n",
        "            # Update model parameters\n",
        "            weights -= learning_rate * d_weights\n",
        "            bias -= learning_rate * d_bias\n",
        "\n",
        "            # Calculate MSE and append it to the list\n",
        "            mse = np.mean((np.dot(X_test, weights) + bias - y_test) ** 2)\n",
        "            mse_values.append(mse)\n",
        "\n",
        "    # Return the updated model parameters and MSE values\n",
        "    return weights, bias, mse_values\n",
        "\n",
        "# Call the stochastic_gradient_descent function and obtain the trained model parameters\n",
        "weights, bias, mse_values = stochastic_gradient_descent(train_random_batches)"
      ],
      "metadata": {
        "id": "xvPGbU8tZz4Z"
      },
      "execution_count": 6,
      "outputs": []
    },
    {
      "cell_type": "code",
      "source": [
        "# Make predictions on the test set using the trained model parameters\n",
        "y_pred_test = np.dot(X_test, weights) + bias\n",
        "\n",
        "# Calculate mean squared error\n",
        "mse = np.mean((y_pred_test - y_test) ** 2)\n",
        "print(\"Mean Squared Error (MSE) on Test Set:\", mse)"
      ],
      "metadata": {
        "colab": {
          "base_uri": "https://localhost:8080/"
        },
        "id": "2PBFW4VSZz6n",
        "outputId": "605f781b-425c-4088-9cf8-14b7a121cffa"
      },
      "execution_count": 7,
      "outputs": [
        {
          "output_type": "stream",
          "name": "stdout",
          "text": [
            "Mean Squared Error (MSE) on Test Set: 446.68416947035695\n"
          ]
        }
      ]
    },
    {
      "cell_type": "code",
      "source": [
        "# Create a graph of MSE values\n",
        "plt.plot(range(len(mse_values)), mse_values)\n",
        "plt.xlabel(\"Iteration\")\n",
        "plt.ylabel(\"Mean Squared Error (MSE)\")\n",
        "plt.title(\"MSE on each Iteration\")\n",
        "plt.show()"
      ],
      "metadata": {
        "colab": {
          "base_uri": "https://localhost:8080/",
          "height": 472
        },
        "id": "rqYdTzy6Zz8u",
        "outputId": "ef122b71-0424-4950-b356-eec362df9cf1"
      },
      "execution_count": 8,
      "outputs": [
        {
          "output_type": "display_data",
          "data": {
            "text/plain": [
              "<Figure size 640x480 with 1 Axes>"
            ],
            "image/png": "[encoded data removed]"
          },
          "metadata": {}
        }
      ]
    }
  ]
}